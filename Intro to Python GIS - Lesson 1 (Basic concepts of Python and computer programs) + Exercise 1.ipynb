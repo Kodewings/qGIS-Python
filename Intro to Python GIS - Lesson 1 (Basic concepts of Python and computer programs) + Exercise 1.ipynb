{
 "cells": [
  {
   "cell_type": "code",
   "execution_count": 16,
   "metadata": {},
   "outputs": [
    {
     "data": {
      "text/plain": [
       "(2, 4, 0.6)"
      ]
     },
     "execution_count": 16,
     "metadata": {},
     "output_type": "execute_result"
    }
   ],
   "source": [
    "#https://geo-python.github.io/site/notebooks/L1/a-taste-of-python.html\n",
    "#Simple math\n",
    "1+1, 2*2, 3/5\n"
   ]
  },
  {
   "cell_type": "code",
   "execution_count": 20,
   "metadata": {},
   "outputs": [
    {
     "data": {
      "text/plain": [
       "(0.1411200080598672, 2.0, 3.141592653589793)"
      ]
     },
     "execution_count": 20,
     "metadata": {},
     "output_type": "execute_result"
    }
   ],
   "source": [
    "#more advanced modules require to load a module, sin needs math\n",
    "import math\n",
    "math.sin(3), math.sqrt(4), math.pi"
   ]
  },
  {
   "cell_type": "code",
   "execution_count": 22,
   "metadata": {},
   "outputs": [
    {
     "data": {
      "text/plain": [
       "1.2246467991473532e-16"
      ]
     },
     "execution_count": 22,
     "metadata": {},
     "output_type": "execute_result"
    }
   ],
   "source": [
    "#calculate sine of pi\n",
    "math.sin(math.pi)"
   ]
  },
  {
   "cell_type": "code",
   "execution_count": 41,
   "metadata": {},
   "outputs": [
    {
     "name": "stdout",
     "output_type": "stream",
     "text": [
      "Enter a number4\n",
      "The square root of 4 is 2.0\n"
     ]
    }
   ],
   "source": [
    "#combine functions, creating a variable named square\n",
    "square = int(input('Enter a number '))\n",
    "print('The square root of', square, 'is', math.sqrt(square))"
   ]
  },
  {
   "cell_type": "code",
   "execution_count": 24,
   "metadata": {},
   "outputs": [
    {
     "data": {
      "text/plain": [
       "2.0"
      ]
     },
     "execution_count": 24,
     "metadata": {},
     "output_type": "execute_result"
    }
   ],
   "source": [
    "math.sqrt(4)"
   ]
  },
  {
   "cell_type": "code",
   "execution_count": 43,
   "metadata": {},
   "outputs": [
    {
     "data": {
      "text/plain": [
       "str"
      ]
     },
     "execution_count": 43,
     "metadata": {},
     "output_type": "execute_result"
    }
   ],
   "source": [
    "#checking type of variable, this is a character string\n",
    "weatherForecast = 'Hot'\n",
    "type(weatherForecast)"
   ]
  },
  {
   "cell_type": "code",
   "execution_count": 47,
   "metadata": {},
   "outputs": [
    {
     "ename": "NameError",
     "evalue": "name 'tempFahrenheit' is not defined",
     "output_type": "error",
     "traceback": [
      "\u001b[1;31m---------------------------------------------------------------------------\u001b[0m",
      "\u001b[1;31mNameError\u001b[0m                                 Traceback (most recent call last)",
      "\u001b[1;32m<ipython-input-47-6ebe49d15f39>\u001b[0m in \u001b[0;36m<module>\u001b[1;34m\u001b[0m\n\u001b[0;32m      1\u001b[0m \u001b[1;31m#incompatible, can't do maths with character string values\u001b[0m\u001b[1;33m\u001b[0m\u001b[1;33m\u001b[0m\u001b[1;33m\u001b[0m\u001b[0m\n\u001b[1;32m----> 2\u001b[1;33m \u001b[0mtype\u001b[0m\u001b[1;33m(\u001b[0m\u001b[0mtempFahrenheit\u001b[0m\u001b[1;33m)\u001b[0m\u001b[1;33m\u001b[0m\u001b[1;33m\u001b[0m\u001b[0m\n\u001b[0m\u001b[0;32m      3\u001b[0m \u001b[0mtempFahrenheit\u001b[0m \u001b[1;33m=\u001b[0m \u001b[0mtempFahrenheit\u001b[0m \u001b[1;33m+\u001b[0m \u001b[1;36m5.0\u001b[0m \u001b[1;33m+\u001b[0m \u001b[0mweatherForecast\u001b[0m\u001b[1;33m\u001b[0m\u001b[1;33m\u001b[0m\u001b[0m\n\u001b[0;32m      4\u001b[0m \u001b[1;33m\u001b[0m\u001b[0m\n",
      "\u001b[1;31mNameError\u001b[0m: name 'tempFahrenheit' is not defined"
     ]
    }
   ],
   "source": [
    "#incompatible, can't do maths with character string values\n",
    "type(tempFahrenheit)\n",
    "tempFahrenheit = tempFahrenheit + 5.0 * weatherForecast\n",
    "\n"
   ]
  },
  {
   "cell_type": "code",
   "execution_count": 51,
   "metadata": {},
   "outputs": [
    {
     "name": "stdout",
     "output_type": "stream",
     "text": [
      "Where are you from? sheffield\n",
      "sheffield is awesome\n"
     ]
    }
   ],
   "source": [
    "#input function\n",
    "place = input('Where are you from? ')\n",
    "print(place, 'is awesome')"
   ]
  },
  {
   "cell_type": "code",
   "execution_count": 87,
   "metadata": {},
   "outputs": [
    {
     "name": "stdout",
     "output_type": "stream",
     "text": [
      "How cold is it in Sheffield (celcius) 1\n",
      "2 degrees is pretty cold! that is 33.8 Fahrenheit\n"
     ]
    }
   ],
   "source": [
    "temp_celcius = int(input('How cold is it in Sheffield (celcius) '))\n",
    "tempFahrenheit = float(9/5 * temp_celcius + 32)\n",
    "print(temp_celcius * 2, 'degrees is pretty cold!', 'that is', tempFahrenheit, 'Fahrenheit')\n",
    " \n",
    "#variables saved between command lines"
   ]
  },
  {
   "cell_type": "markdown",
   "metadata": {},
   "source": [
    "tempFahrenheit = float(9/5 * temp_celcius + 32)\n",
    "print(tempFahrenheit)\n",
    "\n",
    "#this command works only if you specify its file type\n",
    "#note good variable names = concise and obvious, not conflicting with keywords"
   ]
  },
  {
   "cell_type": "markdown",
   "metadata": {},
   "source": [
    "#Exercise 1"
   ]
  },
  {
   "cell_type": "code",
   "execution_count": 122,
   "metadata": {},
   "outputs": [
    {
     "name": "stdout",
     "output_type": "stream",
     "text": [
      "How much do you like ice cream out of ten? 8\n",
      "How much do you enjoy sleepout of ten? 6\n",
      "What is your first name? Joe\n",
      "What is your last name? Ps\n",
      "Your name is Joe Ps you gave ice cream a 8 out of 10\n",
      "You also gave sleep a 6 out of 10\n",
      "Therefore Joe we can conclude that your happiness rating is 7.0 out of 10!\n"
     ]
    }
   ],
   "source": [
    "ice_cream_rating= int(input('How much do you like ice cream out of ten? '))\n",
    "sleep_rating= int(input('How much do you enjoy sleepout of ten? '))\n",
    "firstname = str(input('What is your first name? '))\n",
    "lastname = str(input('What is your last name? '))\n",
    "happiness_rating = (ice_cream_rating + sleep_rating)/2\n",
    "\n",
    "print('Your name is ' + firstname, lastname, 'you gave ice cream a', ice_cream_rating, 'out of 10')\n",
    "print('You also gave sleep a', sleep_rating, 'out of 10')\n",
    "print('Therefore', firstname, 'we can conclude that your happiness rating is', happiness_rating, 'out of 10!')\n"
   ]
  },
  {
   "cell_type": "markdown",
   "metadata": {},
   "source": [
    "### "
   ]
  }
 ],
 "metadata": {
  "kernelspec": {
   "display_name": "Python 3",
   "language": "python",
   "name": "python3"
  },
  "language_info": {
   "codemirror_mode": {
    "name": "ipython",
    "version": 3
   },
   "file_extension": ".py",
   "mimetype": "text/x-python",
   "name": "python",
   "nbconvert_exporter": "python",
   "pygments_lexer": "ipython3",
   "version": "3.7.4"
  }
 },
 "nbformat": 4,
 "nbformat_minor": 2
}
